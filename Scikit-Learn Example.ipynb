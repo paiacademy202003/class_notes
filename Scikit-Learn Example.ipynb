{
 "cells": [
  {
   "cell_type": "code",
   "execution_count": 7,
   "metadata": {},
   "outputs": [
    {
     "data": {
      "text/plain": [
       "\"\\nWrite a function that takes pandas dataframe df as input. This dataset is assumed to have 2 columns, \\n'x' and 'y'. We are going to create a regression model from scikit-learn to try to predict the 'y' \\ncolumn based off the values in the 'x' column. This function will need to take the following steps,\\n\\n* Remove all rows with missing values.\\n* Split the data into a training set and testing set with the sklearn train_test_split() method\\n(see https://scikit-learn.org/stable/modules/generated/sklearn.model_selection.train_test_split.html). \\nUse a test_size of 0.25, and a random_state of 42. \\n* Initialize a scikit-learn linear regression model and fit the model to the training set data.\\n(see https://scikit-learn.org/stable/modules/generated/sklearn.linear_model.LinearRegression.html). Do \\nnot specify any hyperparameters.\\n* Once the model is fit, make a plot of the models predictions for the 'y' values in the dataset compared to \\nthe actual values\\n* Return the r^2 score when predicted on the testing set data with the score() method.\\n\""
      ]
     },
     "execution_count": 7,
     "metadata": {},
     "output_type": "execute_result"
    }
   ],
   "source": [
    "import numpy as np\n",
    "import pandas as pd\n",
    "from sklearn.model_selection import train_test_split\n",
    "from sklearn.linear_model import LinearRegression\n",
    "import matplotlib.pyplot as plt\n",
    "\"\"\"\n",
    "Write a function that takes pandas dataframe df as input. This dataset is assumed to have 2 columns, \n",
    "'x' and 'y'. We are going to create a regression model from scikit-learn to try to predict the 'y' \n",
    "column based off the values in the 'x' column. This function will need to take the following steps,\n",
    "\n",
    "* Remove all rows with missing values.\n",
    "* Split the data into a training set and testing set with the sklearn train_test_split() method\n",
    "(see https://scikit-learn.org/stable/modules/generated/sklearn.model_selection.train_test_split.html). \n",
    "Use a test_size of 0.25, and a random_state of 42. \n",
    "* Initialize a scikit-learn linear regression model and fit the model to the training set data.\n",
    "(see https://scikit-learn.org/stable/modules/generated/sklearn.linear_model.LinearRegression.html). Do \n",
    "not specify any hyperparameters.\n",
    "* Once the model is fit, make a plot of the models predictions for the 'y' values in the dataset compared to \n",
    "the actual values\n",
    "* Return the r^2 score when predicted on the testing set data with the score() method.\n",
    "\"\"\"\n",
    "\n"
   ]
  },
  {
   "cell_type": "code",
   "execution_count": 57,
   "metadata": {},
   "outputs": [
    {
     "data": {
      "image/png": "[encoded data removed]",
      "text/plain": [
       "<Figure size 432x288 with 1 Axes>"
      ]
     },
     "metadata": {
      "needs_background": "light"
     },
     "output_type": "display_data"
    },
    {
     "name": "stdout",
     "output_type": "stream",
     "text": [
      "r^2 score is 0.514822555392237\n"
     ]
    }
   ],
   "source": [
    "######ANSWER#######\n",
    "\n",
    "def f(df):\n",
    "    #df is a pandas dataframe with the columns 'x' and 'y'\n",
    "    \n",
    "    #remove all rows with missing values (known as NaNs)\n",
    "    df = df.dropna()\n",
    "    \n",
    "    #isolate target variable y from all other variables X. In this case, X will only have one column. \n",
    "    y = df['y']\n",
    "    X = df.drop('y', axis=1) # X = df['x'] would also work in this case\n",
    "    \n",
    "    #Create training and testing set with X and y\n",
    "    X_train, X_test, y_train, y_test = train_test_split(X, y, test_size=0.25, random_state=42)\n",
    "    #The data is being broken up into a training and testing set so that the model can be trained \n",
    "    #on the training set and then evaluated on the testing set. After all, evaluating the quality of \n",
    "    #a model on the same dataset that the model was trained on would be meaningless. test_size is the \n",
    "    #fraction of the original dataset that goes into the testing set. random_state is a parameter \n",
    "    #that affects how the data is randomly split but it is not super important\n",
    "    \n",
    "    #initialize the model\n",
    "    model = LinearRegression() #notice the same name as what we imported \n",
    "    \n",
    "    #fit the model on the training set\n",
    "    model.fit(X_train, y_train)\n",
    "    #this is the stage where the model tries to learn the relationship between x and y to be able to predict\n",
    "    #y from x on new datapoints\n",
    "    \n",
    "    #plot the predictions on the test set vs the actual values\n",
    "    prediction = model.predict(X_test)\n",
    "    plt.scatter(X_test['x'], prediction, color='orange', label='prediction')\n",
    "    #this will create a line showing the prediction\n",
    "    plt.scatter(X_test['x'], y_test, color='blue', label='actual')\n",
    "    #these are the actual (x,y) points in the test set\n",
    "    plt.legend()\n",
    "    plt.show()\n",
    "    \n",
    "    #return the r^2 score\n",
    "    return model.score(X_test, y_test)\n",
    "    #r^2 is the score used here to evaluate the quality of the model. An r^2 score of 1 means the predictions\n",
    "    #were perfect. An r^2 score of 0 means it predicted the average value of y_test for every datapoint in the \n",
    "    #test set (Not good!)\n",
    "    \n",
    "######TEST CASE#######\n",
    "a_x = np.linspace(0,10,41)\n",
    "a_y = np.array([a_x[i] + 3*np.random.normal() + 3 for i in range(len(a_x))])\n",
    "df = pd.DataFrame()\n",
    "df['x'] = a_x\n",
    "df['y'] = a_y\n",
    "\n",
    "r2 = f(df)\n",
    "#plot is created while executing f(df)\n",
    "print('r^2 score is ' + str(r2))"
   ]
  }
 ],
 "metadata": {
  "kernelspec": {
   "display_name": "Python 3",
   "language": "python",
   "name": "python3"
  },
  "language_info": {
   "codemirror_mode": {
    "name": "ipython",
    "version": 3
   },
   "file_extension": ".py",
   "mimetype": "text/x-python",
   "name": "python",
   "nbconvert_exporter": "python",
   "pygments_lexer": "ipython3",
   "version": "3.7.3"
  }
 },
 "nbformat": 4,
 "nbformat_minor": 2
}
